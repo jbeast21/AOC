{
 "cells": [
  {
   "cell_type": "code",
   "execution_count": 8,
   "id": "a48cc01a",
   "metadata": {},
   "outputs": [],
   "source": [
    "# Day 2\n",
    "\n",
    "fn = '02.txt'\n",
    "commands = open(fn).read().strip().split('\\n')\n",
    "\n",
    "# Part 1\n",
    "x = 0\n",
    "d = 0\n",
    "for line in commands:\n",
    "    [command, val] = line.strip().split(' ')\n",
    "    val = int(val)\n",
    "    if command == 'forward':\n",
    "        x += val\n",
    "    if command == 'down':\n",
    "        d += val\n",
    "    if command == 'up':\n",
    "        d -= val\n",
    "print(x*d)\n",
    "\n",
    "# Part 2\n",
    "x = 0\n",
    "d = 0\n",
    "a = 0\n",
    "for line in commands:\n",
    "    [command, val] = line.strip().split(' ')\n",
    "    val = int(val)\n",
    "    if command == 'forward':\n",
    "        x += val\n",
    "        d += a*val\n",
    "    if command == 'down':\n",
    "        a += val\n",
    "    if command == 'up':\n",
    "        a -= val\n",
    "print(x*d)"
   ]
  }
 ],
 "metadata": {
  "kernelspec": {
   "display_name": "Python 3 (ipykernel)",
   "language": "python",
   "name": "python3"
  },
  "language_info": {
   "codemirror_mode": {
    "name": "ipython",
    "version": 3
   },
   "file_extension": ".py",
   "mimetype": "text/x-python",
   "name": "python",
   "nbconvert_exporter": "python",
   "pygments_lexer": "ipython3",
   "version": "3.9.7"
  }
 },
 "nbformat": 4,
 "nbformat_minor": 5
}
