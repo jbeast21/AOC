{
 "cells": [
  {
   "cell_type": "code",
   "execution_count": null,
   "id": "cb37e58f",
   "metadata": {},
   "outputs": [],
   "source": [
    "#%load_ext pycodestyle_magic\n",
    "#%pycodestyle_on"
   ]
  },
  {
   "cell_type": "code",
   "execution_count": 22,
   "id": "b324a879",
   "metadata": {},
   "outputs": [],
   "source": [
    "# fn = 'test.txt'\n",
    "fn = 'input.txt'\n",
    "data = []\n",
    "for line in open(fn):\n",
    "    data.append(int(line.strip()))\n",
    "\n",
    "# Part 1\n",
    "inc = 0\n",
    "for ind, val in enumerate(data[:-1]):\n",
    "    if val < data[ind+1]:\n",
    "        inc += 1\n",
    "print(inc)\n",
    "\n",
    "# Part 2\n",
    "inc = 0\n",
    "for ind, val in enumerate(data[:-3]):\n",
    "    if sum(data[ind:ind+3]) < sum(data[ind+1:ind+4]):\n",
    "        inc += 1\n",
    "print(inc)"
   ]
  }
 ],
 "metadata": {
  "kernelspec": {
   "display_name": "Python 3 (ipykernel)",
   "language": "python",
   "name": "python3"
  },
  "language_info": {
   "codemirror_mode": {
    "name": "ipython",
    "version": 3
   },
   "file_extension": ".py",
   "mimetype": "text/x-python",
   "name": "python",
   "nbconvert_exporter": "python",
   "pygments_lexer": "ipython3",
   "version": "3.9.7"
  }
 },
 "nbformat": 4,
 "nbformat_minor": 5
}
